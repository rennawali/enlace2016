{
 "cells": [
  {
   "cell_type": "code",
   "execution_count": 2,
   "metadata": {
    "collapsed": false
   },
   "outputs": [],
   "source": [
    "import numpy as np\n",
    "from datetime import datetime\n",
    "from datetime import timedelta\n",
    "import pandas as pd\n",
    "import time\n",
    "import math\n"
   ]
  },
  {
   "cell_type": "code",
   "execution_count": 5,
   "metadata": {
    "collapsed": false
   },
   "outputs": [],
   "source": [
    "gmt = timedelta(hours=5)\n",
    "dt = datetime(2016, 6, 20)\n",
    "end = datetime(2016, 6, 22)\n",
    "step = timedelta(minutes=5)\n",
    "\n",
    "result = []\n",
    "\n",
    "while dt < end:\n",
    "    result.append(dt)\n",
    "    dt += step\n",
    "\n",
    "df = pd.DataFrame(\n",
    "    [[0, 0, 0]],\n",
    "    columns=['d_angle', 'elevation', 'measured']\n",
    ")"
   ]
  },
  {
   "cell_type": "code",
   "execution_count": 8,
   "metadata": {
    "collapsed": false
   },
   "outputs": [],
   "source": [
    "for i in range(1, len(result)):\n",
    "        ts = pd.Timestamp(result[i])\n",
    "        \n",
    "        d_angle_z = 1\n",
    "        now_angle_z = 1\n",
    "        theta = 1\n",
    "        \n",
    "        new_row = pd.DataFrame(\n",
    "            [[d_angle_z, now_angle_z, theta]],\n",
    "            index=[ts]\n",
    "        )\n",
    "        \n",
    "        df = df.append(new_row, ignore_index=False)"
   ]
  },
  {
   "cell_type": "code",
   "execution_count": null,
   "metadata": {
    "collapsed": false
   },
   "outputs": [],
   "source": []
  },
  {
   "cell_type": "code",
   "execution_count": null,
   "metadata": {
    "collapsed": false
   },
   "outputs": [],
   "source": []
  },
  {
   "cell_type": "code",
   "execution_count": null,
   "metadata": {
    "collapsed": false
   },
   "outputs": [],
   "source": []
  },
  {
   "cell_type": "code",
   "execution_count": null,
   "metadata": {
    "collapsed": true
   },
   "outputs": [],
   "source": []
  }
 ],
 "metadata": {
  "kernelspec": {
   "display_name": "Python 2",
   "language": "python",
   "name": "python2"
  },
  "language_info": {
   "codemirror_mode": {
    "name": "ipython",
    "version": 2
   },
   "file_extension": ".py",
   "mimetype": "text/x-python",
   "name": "python",
   "nbconvert_exporter": "python",
   "pygments_lexer": "ipython2",
   "version": "2.7.11"
  }
 },
 "nbformat": 4,
 "nbformat_minor": 0
}
